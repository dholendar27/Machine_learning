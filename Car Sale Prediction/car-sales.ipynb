{
 "cells":[
  {
   "cell_type":"code",
   "source":[
    "import pandas as pd\n",
    "import numpy as np"
   ],
   "execution_count":27,
   "outputs":[
    
   ],
   "metadata":{
    "datalore":{
     "node_id":"Hv6oyMzfS9Mh63RMoGlcvM",
     "type":"CODE",
     "hide_input_from_viewers":true,
     "hide_output_from_viewers":true
    }
   }
  },
  {
   "cell_type":"code",
   "source":[
    "missing_car_sales = pd.read_csv('car-sales-extended-missing-data.csv')"
   ],
   "execution_count":4,
   "outputs":[
    
   ],
   "metadata":{
    "datalore":{
     "node_id":"8u3JMxocs0jbtIpTs2F29s",
     "type":"CODE",
     "hide_input_from_viewers":true,
     "hide_output_from_viewers":true
    }
   }
  },
  {
   "cell_type":"code",
   "source":[
    "missing_car_sales.isna().sum()"
   ],
   "execution_count":5,
   "outputs":[
    {
     "data":{
      "text\/html":[
       "<pre>Make             49\n",
       "Colour           50\n",
       "Odometer (KM)    50\n",
       "Doors            50\n",
       "Price            50\n",
       "dtype: int64<\/pre>"
      ]
     },
     "metadata":{
      
     },
     "output_type":"display_data"
    }
   ],
   "metadata":{
    "datalore":{
     "node_id":"46GC4jtnxZC05pcKEqx83j",
     "type":"CODE",
     "hide_input_from_viewers":true,
     "hide_output_from_viewers":true
    }
   }
  },
  {
   "cell_type":"code",
   "source":[
    "missing_car_sales.dropna(subset=\"Price\",inplace=True)"
   ],
   "execution_count":6,
   "outputs":[
    
   ],
   "metadata":{
    "datalore":{
     "node_id":"eFRLPDdO2D1gyzkXsoaKqO",
     "type":"CODE",
     "hide_input_from_viewers":true,
     "hide_output_from_viewers":true
    }
   }
  },
  {
   "cell_type":"code",
   "source":[
    "X = missing_car_sales.drop('Price',axis=1)\n",
    "y = missing_car_sales['Price']"
   ],
   "execution_count":10,
   "outputs":[
    
   ],
   "metadata":{
    "datalore":{
     "node_id":"aA284wDBnRMiZDFOjN0AHX",
     "type":"CODE",
     "hide_input_from_viewers":true,
     "hide_output_from_viewers":true
    }
   }
  },
  {
   "cell_type":"code",
   "source":[
    "X"
   ],
   "execution_count":15,
   "outputs":[
    {
     "data":{
      "text\/html":[
       "<div>\n",
       "<style scoped>\n",
       "    .dataframe tbody tr th:only-of-type {\n",
       "        vertical-align: middle;\n",
       "    }\n",
       "\n",
       "    .dataframe tbody tr th {\n",
       "        vertical-align: top;\n",
       "    }\n",
       "\n",
       "    .dataframe thead th {\n",
       "        text-align: right;\n",
       "    }\n",
       "<\/style>\n",
       "<table border=\"1\" class=\"dataframe\">\n",
       "  <thead>\n",
       "    <tr style=\"text-align: right;\">\n",
       "      <th><\/th>\n",
       "      <th>Make<\/th>\n",
       "      <th>Colour<\/th>\n",
       "      <th>Odometer (KM)<\/th>\n",
       "      <th>Doors<\/th>\n",
       "    <\/tr>\n",
       "  <\/thead>\n",
       "  <tbody>\n",
       "    <tr>\n",
       "      <th>0<\/th>\n",
       "      <td>Honda<\/td>\n",
       "      <td>White<\/td>\n",
       "      <td>35431.0<\/td>\n",
       "      <td>4.0<\/td>\n",
       "    <\/tr>\n",
       "    <tr>\n",
       "      <th>1<\/th>\n",
       "      <td>BMW<\/td>\n",
       "      <td>Blue<\/td>\n",
       "      <td>192714.0<\/td>\n",
       "      <td>5.0<\/td>\n",
       "    <\/tr>\n",
       "    <tr>\n",
       "      <th>2<\/th>\n",
       "      <td>Honda<\/td>\n",
       "      <td>White<\/td>\n",
       "      <td>84714.0<\/td>\n",
       "      <td>4.0<\/td>\n",
       "    <\/tr>\n",
       "    <tr>\n",
       "      <th>3<\/th>\n",
       "      <td>Toyota<\/td>\n",
       "      <td>White<\/td>\n",
       "      <td>154365.0<\/td>\n",
       "      <td>4.0<\/td>\n",
       "    <\/tr>\n",
       "    <tr>\n",
       "      <th>4<\/th>\n",
       "      <td>Nissan<\/td>\n",
       "      <td>Blue<\/td>\n",
       "      <td>181577.0<\/td>\n",
       "      <td>3.0<\/td>\n",
       "    <\/tr>\n",
       "    <tr>\n",
       "      <th>...<\/th>\n",
       "      <td>...<\/td>\n",
       "      <td>...<\/td>\n",
       "      <td>...<\/td>\n",
       "      <td>...<\/td>\n",
       "    <\/tr>\n",
       "    <tr>\n",
       "      <th>995<\/th>\n",
       "      <td>Toyota<\/td>\n",
       "      <td>Black<\/td>\n",
       "      <td>35820.0<\/td>\n",
       "      <td>4.0<\/td>\n",
       "    <\/tr>\n",
       "    <tr>\n",
       "      <th>996<\/th>\n",
       "      <td>NaN<\/td>\n",
       "      <td>White<\/td>\n",
       "      <td>155144.0<\/td>\n",
       "      <td>3.0<\/td>\n",
       "    <\/tr>\n",
       "    <tr>\n",
       "      <th>997<\/th>\n",
       "      <td>Nissan<\/td>\n",
       "      <td>Blue<\/td>\n",
       "      <td>66604.0<\/td>\n",
       "      <td>4.0<\/td>\n",
       "    <\/tr>\n",
       "    <tr>\n",
       "      <th>998<\/th>\n",
       "      <td>Honda<\/td>\n",
       "      <td>White<\/td>\n",
       "      <td>215883.0<\/td>\n",
       "      <td>4.0<\/td>\n",
       "    <\/tr>\n",
       "    <tr>\n",
       "      <th>999<\/th>\n",
       "      <td>Toyota<\/td>\n",
       "      <td>Blue<\/td>\n",
       "      <td>248360.0<\/td>\n",
       "      <td>4.0<\/td>\n",
       "    <\/tr>\n",
       "  <\/tbody>\n",
       "<\/table>\n",
       "<p>950 rows × 4 columns<\/p>\n",
       "<\/div>"
      ]
     },
     "metadata":{
      
     },
     "output_type":"display_data"
    }
   ],
   "metadata":{
    "datalore":{
     "node_id":"9wIbepOQ20qMHW3MXohQ0e",
     "type":"CODE",
     "hide_input_from_viewers":true,
     "hide_output_from_viewers":true
    }
   }
  },
  {
   "cell_type":"code",
   "source":[
    "from sklearn.impute import SimpleImputer\n",
    "from sklearn.compose import ColumnTransformer\n",
    "\n",
    "\n",
    "category_imputer = SimpleImputer(strategy='constant', fill_value=\"missing\")\n",
    "door_imputer = SimpleImputer(strategy ='constant', fill_value=4)\n",
    "numerical_imputer = SimpleImputer(strategy=\"mean\")\n",
    "\n",
    "category_features = ['Make','Colour']\n",
    "door_features = ['Doors']\n",
    "numerical_features = ['Odometer (KM)']\n",
    "\n",
    "imputer = ColumnTransformer([\n",
    "    ('category_imputer', category_imputer, category_features),\n",
    "    ('door_imputer', door_imputer, door_features),\n",
    "    ('numerical_imputer', numerical_imputer, numerical_features)\n",
    "])\n",
    "\n",
    "filled_X = imputer.fit_transform(X)\n",
    "filled_X"
   ],
   "execution_count":19,
   "outputs":[
    {
     "data":{
      "text\/html":[
       "<pre>array([['Honda', 'White', 4.0, 35431.0],\n",
       "       ['BMW', 'Blue', 5.0, 192714.0],\n",
       "       ['Honda', 'White', 4.0, 84714.0],\n",
       "       ...,\n",
       "       ['Nissan', 'Blue', 4.0, 66604.0],\n",
       "       ['Honda', 'White', 4.0, 215883.0],\n",
       "       ['Toyota', 'Blue', 4.0, 248360.0]], dtype=object)<\/pre>"
      ]
     },
     "metadata":{
      
     },
     "output_type":"display_data"
    }
   ],
   "metadata":{
    "datalore":{
     "node_id":"jcCt1TyIwXGHJMHt7vU9KT",
     "type":"CODE",
     "hide_input_from_viewers":true,
     "hide_output_from_viewers":true
    }
   }
  },
  {
   "cell_type":"code",
   "source":[
    "car_sales = pd.DataFrame(filled_X, columns=['Make','Colour','Doors','Odometer (KM)'])\n",
    "car_sales"
   ],
   "execution_count":25,
   "outputs":[
    {
     "data":{
      "text\/html":[
       "<div>\n",
       "<style scoped>\n",
       "    .dataframe tbody tr th:only-of-type {\n",
       "        vertical-align: middle;\n",
       "    }\n",
       "\n",
       "    .dataframe tbody tr th {\n",
       "        vertical-align: top;\n",
       "    }\n",
       "\n",
       "    .dataframe thead th {\n",
       "        text-align: right;\n",
       "    }\n",
       "<\/style>\n",
       "<table border=\"1\" class=\"dataframe\">\n",
       "  <thead>\n",
       "    <tr style=\"text-align: right;\">\n",
       "      <th><\/th>\n",
       "      <th>Make<\/th>\n",
       "      <th>Colour<\/th>\n",
       "      <th>Doors<\/th>\n",
       "      <th>Odometer (KM)<\/th>\n",
       "    <\/tr>\n",
       "  <\/thead>\n",
       "  <tbody>\n",
       "    <tr>\n",
       "      <th>0<\/th>\n",
       "      <td>Honda<\/td>\n",
       "      <td>White<\/td>\n",
       "      <td>4.0<\/td>\n",
       "      <td>35431.0<\/td>\n",
       "    <\/tr>\n",
       "    <tr>\n",
       "      <th>1<\/th>\n",
       "      <td>BMW<\/td>\n",
       "      <td>Blue<\/td>\n",
       "      <td>5.0<\/td>\n",
       "      <td>192714.0<\/td>\n",
       "    <\/tr>\n",
       "    <tr>\n",
       "      <th>2<\/th>\n",
       "      <td>Honda<\/td>\n",
       "      <td>White<\/td>\n",
       "      <td>4.0<\/td>\n",
       "      <td>84714.0<\/td>\n",
       "    <\/tr>\n",
       "    <tr>\n",
       "      <th>3<\/th>\n",
       "      <td>Toyota<\/td>\n",
       "      <td>White<\/td>\n",
       "      <td>4.0<\/td>\n",
       "      <td>154365.0<\/td>\n",
       "    <\/tr>\n",
       "    <tr>\n",
       "      <th>4<\/th>\n",
       "      <td>Nissan<\/td>\n",
       "      <td>Blue<\/td>\n",
       "      <td>3.0<\/td>\n",
       "      <td>181577.0<\/td>\n",
       "    <\/tr>\n",
       "    <tr>\n",
       "      <th>...<\/th>\n",
       "      <td>...<\/td>\n",
       "      <td>...<\/td>\n",
       "      <td>...<\/td>\n",
       "      <td>...<\/td>\n",
       "    <\/tr>\n",
       "    <tr>\n",
       "      <th>945<\/th>\n",
       "      <td>Toyota<\/td>\n",
       "      <td>Black<\/td>\n",
       "      <td>4.0<\/td>\n",
       "      <td>35820.0<\/td>\n",
       "    <\/tr>\n",
       "    <tr>\n",
       "      <th>946<\/th>\n",
       "      <td>missing<\/td>\n",
       "      <td>White<\/td>\n",
       "      <td>3.0<\/td>\n",
       "      <td>155144.0<\/td>\n",
       "    <\/tr>\n",
       "    <tr>\n",
       "      <th>947<\/th>\n",
       "      <td>Nissan<\/td>\n",
       "      <td>Blue<\/td>\n",
       "      <td>4.0<\/td>\n",
       "      <td>66604.0<\/td>\n",
       "    <\/tr>\n",
       "    <tr>\n",
       "      <th>948<\/th>\n",
       "      <td>Honda<\/td>\n",
       "      <td>White<\/td>\n",
       "      <td>4.0<\/td>\n",
       "      <td>215883.0<\/td>\n",
       "    <\/tr>\n",
       "    <tr>\n",
       "      <th>949<\/th>\n",
       "      <td>Toyota<\/td>\n",
       "      <td>Blue<\/td>\n",
       "      <td>4.0<\/td>\n",
       "      <td>248360.0<\/td>\n",
       "    <\/tr>\n",
       "  <\/tbody>\n",
       "<\/table>\n",
       "<p>950 rows × 4 columns<\/p>\n",
       "<\/div>"
      ]
     },
     "metadata":{
      
     },
     "output_type":"display_data"
    }
   ],
   "metadata":{
    "datalore":{
     "node_id":"2rLp3GOibqOnU5zbomY6r8",
     "type":"CODE",
     "hide_input_from_viewers":true,
     "hide_output_from_viewers":true
    }
   }
  },
  {
   "cell_type":"code",
   "source":[
    "from sklearn.preprocessing import OneHotEncoder\n",
    "from sklearn.compose import ColumnTransformer\n",
    "\n",
    "Categorical_features = ['Make','Colour','Doors']\n",
    "one_hot = OneHotEncoder()\n",
    "transformer = ColumnTransformer([('one_hot', one_hot, Categorical_features)],remainder=\"passthrough\" )\n",
    "transfromed_X = transformer.fit_transform(car_sales)\n",
    "transfromed_X"
   ],
   "execution_count":26,
   "outputs":[
    {
     "data":{
      "text\/plain":[
       "<950x15 sparse matrix of type '<class 'numpy.float64'>'\n",
       "\twith 3800 stored elements in Compressed Sparse Row format>"
      ]
     },
     "metadata":{
      
     },
     "output_type":"display_data"
    }
   ],
   "metadata":{
    "datalore":{
     "node_id":"o6CYckpWGbMGMnvEzPfwBE",
     "type":"CODE",
     "hide_input_from_viewers":true,
     "hide_output_from_viewers":true
    }
   }
  },
  {
   "cell_type":"code",
   "source":[
    "np.random.seed(42)\n",
    "from sklearn.ensemble import RandomForestRegressor\n",
    "from sklearn.model_selection import train_test_split\n",
    "\n",
    "X_train, X_test, y_train, y_test = train_test_split(transfromed_X, y, train_size=0.2)"
   ],
   "execution_count":28,
   "outputs":[
    
   ],
   "metadata":{
    "datalore":{
     "node_id":"9VOroDfUCn3BGTKa8fJZtf",
     "type":"CODE",
     "hide_input_from_viewers":true,
     "hide_output_from_viewers":true
    }
   }
  },
  {
   "cell_type":"code",
   "source":[
    "model = RandomForestRegressor()\n",
    "model.fit(X_train,y_train)\n",
    "model.score(X_test,y_test)"
   ],
   "execution_count":29,
   "outputs":[
    {
     "data":{
      "text\/plain":[
       "0.18865658852277112"
      ]
     },
     "metadata":{
      
     },
     "output_type":"display_data"
    }
   ],
   "metadata":{
    "datalore":{
     "node_id":"WlvZSFDWcuHr8XtQHcRVYA",
     "type":"CODE",
     "hide_input_from_viewers":true,
     "hide_output_from_viewers":true
    }
   }
  },
  {
   "cell_type":"code",
   "source":[
    
   ],
   "execution_count":null,
   "outputs":[
    
   ],
   "metadata":{
    "datalore":{
     "node_id":"hln8hV8715kZyXb0dCA0Hu",
     "type":"CODE",
     "hide_input_from_viewers":true,
     "hide_output_from_viewers":true
    }
   }
  }
 ],
 "metadata":{
  "kernelspec":{
   "display_name":"Python",
   "language":"python",
   "name":"python"
  },
  "datalore":{
   "computation_mode":"JUPYTER",
   "package_manager":"pip",
   "base_environment":"default",
   "packages":[
    
   ],
   "report_row_ids":[
    
   ],
   "version":3
  }
 },
 "nbformat":4,
 "nbformat_minor":4
}